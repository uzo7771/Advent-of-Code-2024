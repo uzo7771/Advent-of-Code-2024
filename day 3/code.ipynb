{
 "cells": [
  {
   "cell_type": "code",
   "execution_count": 81,
   "metadata": {},
   "outputs": [],
   "source": [
    "import re"
   ]
  },
  {
   "cell_type": "code",
   "execution_count": 82,
   "metadata": {},
   "outputs": [],
   "source": [
    "with open(\"input.txt\", 'r') as file:\n",
    "    input = file.read()"
   ]
  },
  {
   "cell_type": "code",
   "execution_count": 83,
   "metadata": {},
   "outputs": [
    {
     "name": "stdout",
     "output_type": "stream",
     "text": [
      "Result in the first part:  173731097\n"
     ]
    }
   ],
   "source": [
    "pattern = r\"mul\\(([1-9][0-9]{0,2}),([1-9][0-9]{0,2})\\)\"\n",
    "matches = re.findall(pattern, input)\n",
    "print(\"Result in the first part: \", sum([int(i)*int(j) for i,j in matches]))"
   ]
  },
  {
   "cell_type": "code",
   "execution_count": 85,
   "metadata": {},
   "outputs": [
    {
     "name": "stdout",
     "output_type": "stream",
     "text": [
      "Result in the second part:  93729253\n"
     ]
    }
   ],
   "source": [
    "pattern = r\"(do\\(\\)|don't\\(\\))|mul\\(([1-9][0-9]{0,2}),([1-9][0-9]{0,2})\\)\"\n",
    "matches = re.findall(pattern, input)\n",
    "\n",
    "status = 'enabled'\n",
    "result = 0\n",
    "\n",
    "for instruction, x, y in matches:\n",
    "    if instruction == \"do()\":\n",
    "        status = 'enabled'\n",
    "    elif instruction == \"don't()\":\n",
    "        status = 'disabled'\n",
    "    elif status == 'enabled':\n",
    "        result += int(x) * int(y)\n",
    "print(\"Result in the second part: \", result)\n"
   ]
  },
  {
   "cell_type": "code",
   "execution_count": null,
   "metadata": {},
   "outputs": [],
   "source": [
    "# Comments\n",
    "#######################################\n",
    "# Part one: 173731097\n",
    "# Part two: 93729253\n",
    "# The non-capturing group syntax is (?:...)\n",
    "#######################################"
   ]
  }
 ],
 "metadata": {
  "kernelspec": {
   "display_name": "Python 3",
   "language": "python",
   "name": "python3"
  },
  "language_info": {
   "codemirror_mode": {
    "name": "ipython",
    "version": 3
   },
   "file_extension": ".py",
   "mimetype": "text/x-python",
   "name": "python",
   "nbconvert_exporter": "python",
   "pygments_lexer": "ipython3",
   "version": "3.9.13"
  }
 },
 "nbformat": 4,
 "nbformat_minor": 2
}
