{
 "cells": [
  {
   "cell_type": "code",
   "execution_count": null,
   "metadata": {},
   "outputs": [],
   "source": [
    "def security_check(a):\n",
    "    history = 0\n",
    "    for i in range(len(a)-1):\n",
    "        if( (a[i+1] - a[i]) * history >= 0 and (1 <= abs(a[i+1] - a[i]) <= 3) ):\n",
    "            history = a[i+1] - a[i]\n",
    "        else:\n",
    "            return False\n",
    "    return True"
   ]
  },
  {
   "cell_type": "code",
   "execution_count": 9,
   "metadata": {},
   "outputs": [
    {
     "name": "stdout",
     "output_type": "stream",
     "text": [
      "Number of safe reports in part one: 220\n",
      "Number of safe reports in part two: 296\n"
     ]
    }
   ],
   "source": [
    "safe_part_one, safe_part_two = 0, 0\n",
    "with open('input.txt', \"r\") as f:\n",
    "    for i in f.read().split(\"\\n\"):\n",
    "        line = list(map(int, i.split(\" \")))\n",
    "        if security_check(line):\n",
    "            safe_part_one += 1\n",
    "            safe_part_two += 1\n",
    "        else:\n",
    "            for j in range(len(line)):\n",
    "                if security_check(line[:j]+ line[j+1:]):\n",
    "                    safe_part_two += 1\n",
    "                    break\n",
    "\n",
    "print(f\"Number of safe reports in part one: {safe_part_one}\")\n",
    "print(f\"Number of safe reports in part two: {safe_part_two}\")"
   ]
  }
 ],
 "metadata": {
  "kernelspec": {
   "display_name": "Python 3",
   "language": "python",
   "name": "python3"
  },
  "language_info": {
   "codemirror_mode": {
    "name": "ipython",
    "version": 3
   },
   "file_extension": ".py",
   "mimetype": "text/x-python",
   "name": "python",
   "nbconvert_exporter": "python",
   "pygments_lexer": "ipython3",
   "version": "3.9.13"
  }
 },
 "nbformat": 4,
 "nbformat_minor": 2
}
