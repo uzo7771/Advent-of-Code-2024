{
 "cells": [
  {
   "cell_type": "code",
   "execution_count": 1,
   "metadata": {},
   "outputs": [],
   "source": [
    "import numpy as np"
   ]
  },
  {
   "cell_type": "code",
   "execution_count": 2,
   "metadata": {},
   "outputs": [],
   "source": [
    "with open(\"input.txt\", \"r\") as file:\n",
    "    input = file.read().split(\"\\n\\n\")\n",
    "\n",
    "rules = np.array([list(map(int, rule.split(\"|\"))) for rule in input[0].split(\"\\n\")])\n",
    "updates = [list(map(int,update.split(\",\"))) for update in input[1].split(\"\\n\")]"
   ]
  },
  {
   "cell_type": "code",
   "execution_count": 3,
   "metadata": {},
   "outputs": [],
   "source": [
    "def order_check(update: list[int]) -> tuple[list[int], bool]:\n",
    "    update_copy = update.copy()\n",
    "    reordered = False \n",
    "    while True:\n",
    "        for index, page in enumerate(update_copy):\n",
    "            common = set(rules[rules[:, 1] == page][:, 0]) & set(update_copy[index + 1:])\n",
    "            if common:\n",
    "                change = max(update_copy.index(x) for x in common)\n",
    "                update_copy[index], update_copy[change] = update_copy[change], update_copy[index]\n",
    "                reordered = True \n",
    "                break \n",
    "        else:  \n",
    "            return (update_copy, reordered) "
   ]
  },
  {
   "cell_type": "code",
   "execution_count": 6,
   "metadata": {},
   "outputs": [
    {
     "name": "stdout",
     "output_type": "stream",
     "text": [
      "Result part one:  6949\n",
      "Result part two:  4145\n"
     ]
    }
   ],
   "source": [
    "result_1, result_2 = 0, 0\n",
    "for update in updates:\n",
    "    check_result = order_check(update)\n",
    "    if check_result[1] == False:\n",
    "       result_1 += check_result[0][len(update)//2]\n",
    "    else:\n",
    "        result_2 += check_result[0][len(update)//2]\n",
    "print(\"Result part one: \", result_1)\n",
    "print(\"Result part two: \", result_2)"
   ]
  }
 ],
 "metadata": {
  "kernelspec": {
   "display_name": "Python 3",
   "language": "python",
   "name": "python3"
  },
  "language_info": {
   "codemirror_mode": {
    "name": "ipython",
    "version": 3
   },
   "file_extension": ".py",
   "mimetype": "text/x-python",
   "name": "python",
   "nbconvert_exporter": "python",
   "pygments_lexer": "ipython3",
   "version": "3.9.13"
  }
 },
 "nbformat": 4,
 "nbformat_minor": 2
}
