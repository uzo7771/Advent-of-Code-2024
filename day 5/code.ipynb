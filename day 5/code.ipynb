{
 "cells": [
  {
   "cell_type": "code",
   "execution_count": 57,
   "metadata": {},
   "outputs": [],
   "source": [
    "import numpy as np"
   ]
  },
  {
   "cell_type": "code",
   "execution_count": 58,
   "metadata": {},
   "outputs": [],
   "source": [
    "with open(\"input.txt\", \"r\") as file:\n",
    "    input = file.read().split(\"\\n\\n\")\n",
    "\n",
    "rules = np.array([list(map(int, rule.split(\"|\"))) for rule in input[0].split(\"\\n\")])\n",
    "updates = [list(map(int,update.split(\",\"))) for update in input[1].split(\"\\n\")]"
   ]
  },
  {
   "cell_type": "code",
   "execution_count": 59,
   "metadata": {},
   "outputs": [],
   "source": [
    "def is_right_order(update):\n",
    "    for index, page in enumerate(update):\n",
    "        if bool(set(rules[rules[:, 1] == page][:,0]) & set(update[index+1:])) == True:\n",
    "            return False\n",
    "        if bool(set(rules[rules[:, 0] == page][:,1]) & set(update[:index])) == True:\n",
    "            return False \n",
    "    return True"
   ]
  },
  {
   "cell_type": "code",
   "execution_count": 60,
   "metadata": {},
   "outputs": [
    {
     "name": "stdout",
     "output_type": "stream",
     "text": [
      "Result part one:  6949\n"
     ]
    }
   ],
   "source": [
    "result = 0\n",
    "for update in updates:\n",
    "    if is_right_order(update):\n",
    "       result += update[len(update)//2]\n",
    "print(\"Result part one: \", result)"
   ]
  },
  {
   "cell_type": "code",
   "execution_count": null,
   "metadata": {},
   "outputs": [],
   "source": [
    "# Comments\n",
    "######################\n",
    "# Part one: 6949"
   ]
  }
 ],
 "metadata": {
  "kernelspec": {
   "display_name": "Python 3",
   "language": "python",
   "name": "python3"
  },
  "language_info": {
   "codemirror_mode": {
    "name": "ipython",
    "version": 3
   },
   "file_extension": ".py",
   "mimetype": "text/x-python",
   "name": "python",
   "nbconvert_exporter": "python",
   "pygments_lexer": "ipython3",
   "version": "3.9.13"
  }
 },
 "nbformat": 4,
 "nbformat_minor": 2
}
