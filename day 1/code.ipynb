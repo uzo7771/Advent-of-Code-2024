{
 "cells": [
  {
   "cell_type": "code",
   "execution_count": 3,
   "metadata": {},
   "outputs": [],
   "source": [
    "with open ('input.txt', 'r') as file:\n",
    "    input = file.read()"
   ]
  },
  {
   "cell_type": "code",
   "execution_count": 4,
   "metadata": {},
   "outputs": [
    {
     "name": "stdout",
     "output_type": "stream",
     "text": [
      "Part one result:  3508942\n"
     ]
    }
   ],
   "source": [
    "a, b = [], []\n",
    "for line in input.split(\"\\n\"):\n",
    "    values = line.split()\n",
    "    a.append(int(values[0]))\n",
    "    b.append(int(values[1]))\n",
    "\n",
    "a = sorted(a)\n",
    "b = sorted(b)\n",
    "\n",
    "result1 = sum([abs(i-j) for i,j in zip(a,b)])\n",
    "print(\"Part one result: \", result1 )"
   ]
  },
  {
   "cell_type": "code",
   "execution_count": 5,
   "metadata": {},
   "outputs": [
    {
     "name": "stdout",
     "output_type": "stream",
     "text": [
      "Part two result:  26593248\n"
     ]
    }
   ],
   "source": [
    "result2 = 0\n",
    "i,j = 0, 0\n",
    "counter = 0\n",
    "while i < len(a) and j < len(b):\n",
    "    if a[i] == b[j]:\n",
    "        counter += 1\n",
    "        j += 1\n",
    "    elif a[i] > b[j]:\n",
    "        j += 1\n",
    "    else:\n",
    "        result2 += a[i] * counter\n",
    "        i += 1\n",
    "        counter = 0\n",
    "print(\"Part two result: \", result2 )"
   ]
  }
 ],
 "metadata": {
  "kernelspec": {
   "display_name": "Python 3",
   "language": "python",
   "name": "python3"
  },
  "language_info": {
   "codemirror_mode": {
    "name": "ipython",
    "version": 3
   },
   "file_extension": ".py",
   "mimetype": "text/x-python",
   "name": "python",
   "nbconvert_exporter": "python",
   "pygments_lexer": "ipython3",
   "version": "3.9.13"
  }
 },
 "nbformat": 4,
 "nbformat_minor": 2
}
