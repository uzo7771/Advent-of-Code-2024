{
 "cells": [
  {
   "cell_type": "code",
   "execution_count": 1,
   "metadata": {},
   "outputs": [],
   "source": [
    "import itertools\n",
    "import re"
   ]
  },
  {
   "cell_type": "code",
   "execution_count": 2,
   "metadata": {},
   "outputs": [],
   "source": [
    "with open(\"input.txt\", \"r\") as file:\n",
    "    input = file.read().split(\"\\n\")"
   ]
  },
  {
   "cell_type": "code",
   "execution_count": 3,
   "metadata": {},
   "outputs": [],
   "source": [
    "max_x_indices = len(input[0]) -1\n",
    "max_y_indices = len(input) - 1"
   ]
  },
  {
   "cell_type": "code",
   "execution_count": 4,
   "metadata": {},
   "outputs": [],
   "source": [
    "def find_symbol_indices(text, symbol):\n",
    "    return [(i, j) for i, line in enumerate(text) for j, char in enumerate(line) if char == symbol]\n",
    "\n",
    "def is_good_position(point, max_x, max_y):\n",
    "    return 0 <= point[0] <= max_y and 0 <= point[1] <= max_x\n",
    "    \n",
    "\n",
    "def calculate_antinode_positions(point_1, point_2, max_x, max_y):\n",
    "    v = (point_2[0]- point_1[0], point_2[1]-point_1[1])\n",
    "    result_1, result_2 = [], []\n",
    "    k = 1\n",
    "    while True:\n",
    "        p1 = (point_1[0]-k*v[0], point_1[1]-k*v[1])\n",
    "        if is_good_position(p1, max_x, max_y):\n",
    "            result_1.append(p1)\n",
    "            k+=1\n",
    "        else:\n",
    "            break\n",
    "    k = 2\n",
    "    while True:\n",
    "        p2 = (point_1[0]+k*v[0], point_1[1]+k*v[1])\n",
    "        if is_good_position(p2, max_x, max_y):\n",
    "            result_2.append(p2) \n",
    "            k+=1\n",
    "        else:\n",
    "            break \n",
    "    return result_1, result_2"
   ]
  },
  {
   "cell_type": "code",
   "execution_count": 5,
   "metadata": {},
   "outputs": [
    {
     "name": "stdout",
     "output_type": "stream",
     "text": [
      "Result part one: 214\n",
      "Resul part two: 809\n"
     ]
    }
   ],
   "source": [
    "def solve():\n",
    "    antinode_positions_part_one = []\n",
    "    antinode_positions_part_two = set()\n",
    "    antenna_positions = []\n",
    "\n",
    "    for symbol in set(re.findall(r\"[0-9]|[a-zA-z]\", \" \".join(input))):\n",
    "        antenna_indices = find_symbol_indices(input, symbol)\n",
    "        antenna_positions.extend(antenna_indices)\n",
    "        for antenna_1, antenna_2 in itertools.combinations(antenna_indices, 2):\n",
    "            r1, r2 = calculate_antinode_positions(antenna_1, antenna_2, max_x_indices, max_y_indices)\n",
    "            antinode_positions_part_two.update(r1)\n",
    "            antinode_positions_part_two.update(r2)\n",
    "            if len(r1) > 0:\n",
    "                antinode_positions_part_one.append(r1[0])\n",
    "            if len(r2) > 0:\n",
    "                antinode_positions_part_one.append(r2[0])\n",
    "\n",
    "    print(\"Result part one:\", len(set(antinode_positions_part_one)))\n",
    "    antinode_positions_part_two.update(antenna_positions)\n",
    "    print(\"Resul part two:\", len(antinode_positions_part_two))\n",
    "\n",
    "solve()"
   ]
  }
 ],
 "metadata": {
  "kernelspec": {
   "display_name": "Python 3",
   "language": "python",
   "name": "python3"
  },
  "language_info": {
   "codemirror_mode": {
    "name": "ipython",
    "version": 3
   },
   "file_extension": ".py",
   "mimetype": "text/x-python",
   "name": "python",
   "nbconvert_exporter": "python",
   "pygments_lexer": "ipython3",
   "version": "3.9.13"
  }
 },
 "nbformat": 4,
 "nbformat_minor": 2
}
