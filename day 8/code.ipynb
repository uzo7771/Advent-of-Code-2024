{
 "cells": [
  {
   "cell_type": "code",
   "execution_count": 1,
   "metadata": {},
   "outputs": [],
   "source": [
    "with open(\"input1.txt\", \"r\") as file:\n",
    "    input = file.read().split(\"\\n\")"
   ]
  },
  {
   "cell_type": "code",
   "execution_count": 2,
   "metadata": {},
   "outputs": [
    {
     "data": {
      "text/plain": [
       "['..A.....A...',\n",
       " '........0...',\n",
       " '.....0......',\n",
       " '.......0....',\n",
       " '....0.......',\n",
       " '......A.....',\n",
       " '............',\n",
       " '............',\n",
       " '........A...',\n",
       " '.........A..',\n",
       " '............',\n",
       " '............']"
      ]
     },
     "execution_count": 2,
     "metadata": {},
     "output_type": "execute_result"
    }
   ],
   "source": [
    "input"
   ]
  },
  {
   "cell_type": "code",
   "execution_count": 3,
   "metadata": {},
   "outputs": [],
   "source": [
    "def find_indices(text, symbol):\n",
    "    result = []\n",
    "    for i in range(len(text)):\n",
    "        result.extend([(i,index) for index, char in enumerate(text[i]) if char == symbol])\n",
    "    return result"
   ]
  },
  {
   "cell_type": "code",
   "execution_count": 10,
   "metadata": {},
   "outputs": [
    {
     "data": {
      "text/plain": [
       "[(0, 2), (0, 8), (5, 6), (8, 8), (9, 9)]"
      ]
     },
     "execution_count": 10,
     "metadata": {},
     "output_type": "execute_result"
    }
   ],
   "source": [
    "r = find_indices(input, \"A\")\n",
    "r"
   ]
  },
  {
   "cell_type": "code",
   "execution_count": 21,
   "metadata": {},
   "outputs": [],
   "source": [
    "def calculate_distance(point_1, point_2):\n",
    "    s = ((point_1[0] + point_2[0])/2, (point_1[1] + point_2[1])/2)\n",
    "    v = (s[0] - point_1[0], s[1] - point_1[1])\n",
    "\n",
    "    print(s[0] + 2*v[0], s[1] + 2*v[1])\n",
    "    print(s[0] - 2*v[0], s[1] - 2*v[1])"
   ]
  },
  {
   "cell_type": "code",
   "execution_count": 20,
   "metadata": {},
   "outputs": [
    {
     "name": "stdout",
     "output_type": "stream",
     "text": [
      "9.5 9.0\n",
      "3.5 5.0\n"
     ]
    }
   ],
   "source": [
    "calculate_distance(r[-3], r[-2])"
   ]
  }
 ],
 "metadata": {
  "kernelspec": {
   "display_name": "Python 3",
   "language": "python",
   "name": "python3"
  },
  "language_info": {
   "codemirror_mode": {
    "name": "ipython",
    "version": 3
   },
   "file_extension": ".py",
   "mimetype": "text/x-python",
   "name": "python",
   "nbconvert_exporter": "python",
   "pygments_lexer": "ipython3",
   "version": "3.9.13"
  }
 },
 "nbformat": 4,
 "nbformat_minor": 2
}
