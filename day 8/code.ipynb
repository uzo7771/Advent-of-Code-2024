{
 "cells": [
  {
   "cell_type": "code",
   "execution_count": 19,
   "metadata": {},
   "outputs": [],
   "source": [
    "import itertools\n",
    "import re"
   ]
  },
  {
   "cell_type": "code",
   "execution_count": 20,
   "metadata": {},
   "outputs": [],
   "source": [
    "with open(\"input.txt\", \"r\") as file:\n",
    "    input = file.read().split(\"\\n\")"
   ]
  },
  {
   "cell_type": "code",
   "execution_count": 21,
   "metadata": {},
   "outputs": [],
   "source": [
    "max_x_indices = len(input[0]) -1\n",
    "max_y_indices = len(input) - 1"
   ]
  },
  {
   "cell_type": "code",
   "execution_count": 22,
   "metadata": {},
   "outputs": [],
   "source": [
    "def find_symbol_indices(text, symbol):\n",
    "    result = []\n",
    "    for i in range(len(text)):\n",
    "        result.extend([(i,index) for index, char in enumerate(text[i]) if char == symbol])\n",
    "    return result\n",
    "def is_good_postion(point, max_x, max_y):\n",
    "    if point[0]>=0 and point[1]>=0 and point[0] <= max_y and point[1]<= max_x:\n",
    "        return True\n",
    "    else:\n",
    "        return False\n",
    "def calculate_antinode_positions(point_1, point_2, part = 1):\n",
    "    v = (point_2[0]- point_1[0], point_2[1]-point_1[1])\n",
    "    if part == 1:\n",
    "        result = [(point_1[0]-v[0], point_1[1]-v[1]), (point_1[0]+2*v[0], point_1[1]+2*v[1])]\n",
    "    return result"
   ]
  },
  {
   "cell_type": "code",
   "execution_count": 23,
   "metadata": {},
   "outputs": [
    {
     "name": "stdout",
     "output_type": "stream",
     "text": [
      "214\n"
     ]
    }
   ],
   "source": [
    "antinode_positions = set()\n",
    "antena_positions = []\n",
    "\n",
    "for symbol in set(re.findall(r\"[0-9]|[a-zA-z]\", \" \".join(input))):\n",
    "    antena_indices = find_symbol_indices(input, symbol)\n",
    "    antena_positions.extend(antena_indices)\n",
    "    for antena_1, antena_2 in itertools.combinations(antena_indices, 2):\n",
    "        antinode_positions.update(calculate_antinode_positions(antena_1, antena_2))\n",
    "\n",
    "result = []\n",
    "for i in antinode_positions:\n",
    "    result.append(is_good_postion(i, max_x_indices, max_y_indices))\n",
    "print(sum(result))\n"
   ]
  },
  {
   "cell_type": "code",
   "execution_count": null,
   "metadata": {},
   "outputs": [],
   "source": [
    "# 214"
   ]
  }
 ],
 "metadata": {
  "kernelspec": {
   "display_name": "Python 3",
   "language": "python",
   "name": "python3"
  },
  "language_info": {
   "codemirror_mode": {
    "name": "ipython",
    "version": 3
   },
   "file_extension": ".py",
   "mimetype": "text/x-python",
   "name": "python",
   "nbconvert_exporter": "python",
   "pygments_lexer": "ipython3",
   "version": "3.9.13"
  }
 },
 "nbformat": 4,
 "nbformat_minor": 2
}
