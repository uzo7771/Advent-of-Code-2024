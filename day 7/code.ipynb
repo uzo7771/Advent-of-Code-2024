{
 "cells": [
  {
   "cell_type": "code",
   "execution_count": 1,
   "metadata": {},
   "outputs": [],
   "source": [
    "import re\n",
    "import itertools"
   ]
  },
  {
   "cell_type": "code",
   "execution_count": 2,
   "metadata": {},
   "outputs": [],
   "source": [
    "with open(\"input.txt\", \"r\") as file:\n",
    "    input = file.read().split(\"\\n\")"
   ]
  },
  {
   "cell_type": "code",
   "execution_count": 3,
   "metadata": {},
   "outputs": [],
   "source": [
    "def apply_operations(numbers, operators):\n",
    "    result = numbers[0]\n",
    "    for i in range(1, len(numbers)):\n",
    "        if operators[i - 1] == '*':\n",
    "            result *= numbers[i]\n",
    "        elif operators[i - 1] == '+':\n",
    "            result += numbers[i]\n",
    "        elif operators[i - 1] == '||':\n",
    "            result = result*10**len(str(numbers[i])) + numbers[i]\n",
    "    return result\n",
    "\n",
    "def calculate(numbers, test_value, part=1):\n",
    "    len_numbers = len(numbers)\n",
    "    if part == 1:\n",
    "        operator_combinations = itertools.product(['*', '+'], repeat=len_numbers - 1)\n",
    "    elif part == 2:\n",
    "        operator_combinations = itertools.product(['*', '+', '||'], repeat=len_numbers - 1)\n",
    "    else:\n",
    "         raise ValueError(\"Invalid part value. Use 1 or 2.\")\n",
    "    for operators in operator_combinations:\n",
    "        if apply_operations(numbers, operators) == test_value:\n",
    "            return test_value\n",
    "    return 0"
   ]
  },
  {
   "cell_type": "code",
   "execution_count": 4,
   "metadata": {},
   "outputs": [
    {
     "name": "stdout",
     "output_type": "stream",
     "text": [
      "Result part one: 20665830408335\n",
      "Result part two: 354060705047464\n"
     ]
    }
   ],
   "source": [
    "result_1, result_2 = [], []\n",
    "for i in input:\n",
    "    line = list(map(int, re.findall(r\"[0-9]+\", i)))\n",
    "    test_value, numbers = line[0], line[1:]\n",
    "    result_1.append(calculate(numbers, test_value, part=1))\n",
    "    result_2.append(calculate(numbers, test_value, part=2))\n",
    "print(\"Result part one:\", sum(result_1))\n",
    "print(\"Result part two:\", sum(result_2))\n"
   ]
  },
  {
   "cell_type": "code",
   "execution_count": null,
   "metadata": {},
   "outputs": [],
   "source": [
    "# 20665830408335\n",
    "# 354060705047464"
   ]
  }
 ],
 "metadata": {
  "kernelspec": {
   "display_name": "Python 3",
   "language": "python",
   "name": "python3"
  },
  "language_info": {
   "codemirror_mode": {
    "name": "ipython",
    "version": 3
   },
   "file_extension": ".py",
   "mimetype": "text/x-python",
   "name": "python",
   "nbconvert_exporter": "python",
   "pygments_lexer": "ipython3",
   "version": "3.9.13"
  }
 },
 "nbformat": 4,
 "nbformat_minor": 2
}
