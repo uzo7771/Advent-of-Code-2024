{
 "cells": [
  {
   "cell_type": "code",
   "execution_count": 1,
   "metadata": {},
   "outputs": [],
   "source": [
    "import re"
   ]
  },
  {
   "cell_type": "code",
   "execution_count": 2,
   "metadata": {},
   "outputs": [],
   "source": [
    "with open(\"input.txt\", \"r\") as file:\n",
    "    row_text = file.read().split(\"\\n\")\n",
    "    \n",
    "column_text = [\"\".join(column) for column in zip(*row_text)]\n",
    "directions = [\"left_down\", \"left_up\", \"right_down\", \"right_up\"]"
   ]
  },
  {
   "cell_type": "code",
   "execution_count": 3,
   "metadata": {},
   "outputs": [],
   "source": [
    "def count_pattern(list_of_text, pattern):\n",
    "    total_count = 0\n",
    "    for text in list_of_text:\n",
    "        total_count += len(re.findall(pattern, text)) + len(re.findall(pattern, text[::-1]))\n",
    "    return total_count\n",
    "\n",
    "\n",
    "def create_string(i_range, j_range, col_text = column_text):\n",
    "    return \"\".join([col_text[i][j] for i, j in zip(i_range, j_range)])\n",
    "\n",
    "def create_directional_strings(i_index, j_index, length, direction, col_text = column_text):\n",
    "    if direction == \"left_down\":\n",
    "        return [create_string(i_index[:length - k], j_index[k:], col_text) for k in range(length)]\n",
    "    elif direction == \"right_up\":\n",
    "        return [create_string(i_index[length - k:], j_index[:k], col_text) for k in range(length)]\n",
    "    elif direction == \"right_down\":\n",
    "        return [create_string(i_index[k:], j_index[:-length - 1 + k:-1], col_text) for k in range(length)]\n",
    "    elif direction == \"left_up\":\n",
    "        return [create_string(i_index[:length - 1 - k], j_index[length - 2 - k::-1], col_text) for k in range(length)]"
   ]
  },
  {
   "cell_type": "code",
   "execution_count": 4,
   "metadata": {},
   "outputs": [],
   "source": [
    "def count_all_xmas(column_text, row_text):\n",
    "    i_index, j_index = list(range(len(column_text))), list(range(len(row_text)))\n",
    "    \n",
    "    left_down = create_directional_strings(i_index, j_index, len(row_text), \"left_down\")\n",
    "    right_up = create_directional_strings(i_index, j_index, len(column_text), \"right_up\")\n",
    "    right_down = create_directional_strings(i_index, j_index, len(column_text), \"right_down\")\n",
    "    left_up = create_directional_strings(i_index, j_index, len(row_text), \"left_up\")\n",
    "    \n",
    "    return (\n",
    "        count_pattern(row_text, \"XMAS\") +\n",
    "        count_pattern(column_text, \"XMAS\") +\n",
    "        count_pattern(left_down, \"XMAS\") +\n",
    "        count_pattern(right_up, \"XMAS\") +\n",
    "        count_pattern(right_down, \"XMAS\") +\n",
    "        count_pattern(left_up, \"XMAS\")\n",
    "    )"
   ]
  },
  {
   "cell_type": "code",
   "execution_count": 5,
   "metadata": {},
   "outputs": [],
   "source": [
    "def count_all_mas(column_text, row_text):\n",
    "    result = 0\n",
    "    for i in range(len(column_text)-2):\n",
    "        tmp = list(zip(*row_text[i:i+3])) # take 3 rows\n",
    "        for j in range(len(row_text)-2): \n",
    "            text = tmp[j:j+3] # move to the right\n",
    "            count_mas = sum([count_pattern(create_directional_strings(list(range(3)), list(range(3)), 3, dir, text), \"MAS\") for dir in directions])\n",
    "            if count_mas == 2:\n",
    "                result += 1\n",
    "    return result "
   ]
  },
  {
   "cell_type": "code",
   "execution_count": 6,
   "metadata": {},
   "outputs": [
    {
     "name": "stdout",
     "output_type": "stream",
     "text": [
      "Part one result:  2458\n",
      "Part two resul:t  1945\n"
     ]
    }
   ],
   "source": [
    "print(\"Part one result: \", count_all_xmas(column_text, row_text))\n",
    "print(\"Part two resul:t \", count_all_mas(column_text, row_text))"
   ]
  }
 ],
 "metadata": {
  "kernelspec": {
   "display_name": "Python 3",
   "language": "python",
   "name": "python3"
  },
  "language_info": {
   "codemirror_mode": {
    "name": "ipython",
    "version": 3
   },
   "file_extension": ".py",
   "mimetype": "text/x-python",
   "name": "python",
   "nbconvert_exporter": "python",
   "pygments_lexer": "ipython3",
   "version": "3.9.13"
  }
 },
 "nbformat": 4,
 "nbformat_minor": 2
}
