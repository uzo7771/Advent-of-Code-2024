{
 "cells": [
  {
   "cell_type": "code",
   "execution_count": 1,
   "metadata": {},
   "outputs": [],
   "source": [
    "import re"
   ]
  },
  {
   "cell_type": "code",
   "execution_count": 4,
   "metadata": {},
   "outputs": [],
   "source": [
    "with open(\"input.txt\", \"r\") as file:\n",
    "    row_text = file.read().split(\"\\n\")"
   ]
  },
  {
   "cell_type": "code",
   "execution_count": 5,
   "metadata": {},
   "outputs": [],
   "source": [
    "def count_xmas(list_of_text):\n",
    "    pattern = r\"XMAS\"\n",
    "    total_count = 0\n",
    "    for text in list_of_text:\n",
    "        total_count += len(re.findall(pattern, text)) + len(re.findall(pattern, text[::-1]))\n",
    "    return total_count\n",
    "\n",
    "def create_string(i_range, j_range):\n",
    "    return \"\".join([column_text[i][j] for i, j in zip(i_range, j_range)])"
   ]
  },
  {
   "cell_type": "code",
   "execution_count": 6,
   "metadata": {},
   "outputs": [
    {
     "data": {
      "text/plain": [
       "2458"
      ]
     },
     "execution_count": 6,
     "metadata": {},
     "output_type": "execute_result"
    }
   ],
   "source": [
    "# Part one\n",
    "column_text = [\"\".join(column) for column in zip(*row_text)]\n",
    "i_index = list(range(len(column_text)))\n",
    "j_index = list(range(len(row_text)))\n",
    "\n",
    "left_down = [create_string(i_index[:len(row_text)-k], j_index[k:]) for k in range(len(row_text))] \n",
    "right_upper = [create_string(i_index[len(column_text)-k:], j_index[:k]) for k in range(len(column_text))] \n",
    "right_down = [create_string(i_index[k:], j_index[:-len(column_text)-1+k:-1]) for k in range(len(column_text))]\n",
    "left_upper = [create_string(i_index[:len(row_text)-1-k], j_index[len(row_text)-2-k::-1])for k in range(len(row_text))]\n",
    "\n",
    "count_xmas(row_text) + count_xmas(column_text) + count_xmas(left_down)+ count_xmas(right_upper)+ count_xmas(right_down) + count_xmas(left_upper) "
   ]
  },
  {
   "cell_type": "code",
   "execution_count": 7,
   "metadata": {},
   "outputs": [],
   "source": [
    "# COMMENTS\n",
    "###########################\n",
    "# Result part one: 2458"
   ]
  }
 ],
 "metadata": {
  "kernelspec": {
   "display_name": "Python 3",
   "language": "python",
   "name": "python3"
  },
  "language_info": {
   "codemirror_mode": {
    "name": "ipython",
    "version": 3
   },
   "file_extension": ".py",
   "mimetype": "text/x-python",
   "name": "python",
   "nbconvert_exporter": "python",
   "pygments_lexer": "ipython3",
   "version": "3.9.13"
  }
 },
 "nbformat": 4,
 "nbformat_minor": 2
}
