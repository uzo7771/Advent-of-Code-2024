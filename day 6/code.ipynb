{
 "cells": [
  {
   "cell_type": "code",
   "execution_count": 1,
   "metadata": {},
   "outputs": [],
   "source": [
    "def load_file(path):\n",
    "    with open (path, \"r\") as file:\n",
    "        map = file.read().split(\"\\n\")\n",
    "    return map\n",
    "\n",
    "guard_symbols = ['^', '>', 'v','<']\n",
    "directions = [\"up\", \"right\", \"down\", \"left\"]"
   ]
  },
  {
   "cell_type": "code",
   "execution_count": 2,
   "metadata": {},
   "outputs": [],
   "source": [
    "def find_guard(horizontal_map):\n",
    "    for i, line in enumerate(horizontal_map):\n",
    "        for symbol in guard_symbols:\n",
    "            if symbol in line:\n",
    "                y = i\n",
    "                x = line.index(symbol)\n",
    "                return x, y, guard_symbols.index(symbol)"
   ]
  },
  {
   "cell_type": "code",
   "execution_count": 3,
   "metadata": {},
   "outputs": [],
   "source": [
    "def go(x, y, direction):\n",
    "    path = []\n",
    "    if direction == \"up\":\n",
    "        for i in range(y,-1,-1):\n",
    "            if horizontal_map[i][x] == \"#\":\n",
    "                return x, i+1, path\n",
    "            path.append((x,i))\n",
    "        else:\n",
    "            return -1, -1, path\n",
    "    elif direction == \"right\":\n",
    "        for i in range(x,len(horizontal_map[0])):\n",
    "            if horizontal_map[y][i] == \"#\":\n",
    "                return i-1, y, path\n",
    "            path.append((i,y))  \n",
    "        else:\n",
    "            return -1, -1, path\n",
    "    elif direction == \"down\":\n",
    "        for i in range(y,len(horizontal_map)):\n",
    "            if horizontal_map[i][x] == \"#\":\n",
    "                return x, i-1, path\n",
    "            path.append((x,i))\n",
    "        else:\n",
    "            return -1, -1, path\n",
    "    elif direction == \"left\":\n",
    "        for i in range(x,-1,-1):\n",
    "            if horizontal_map[y][i] == \"#\":\n",
    "                return i+1, y, path\n",
    "            path.append((i,y))\n",
    "        else:\n",
    "            return -1, -1, path"
   ]
  },
  {
   "cell_type": "code",
   "execution_count": 4,
   "metadata": {},
   "outputs": [],
   "source": [
    "def play(x, y, order_of_directions):\n",
    "    path_set = set()\n",
    "    while True:\n",
    "        for direction in order_of_directions:\n",
    "            x, y, path = go(x, y, direction) \n",
    "            path_set.update(path)\n",
    "            if x < 0 or y < 0:\n",
    "                return len(set(path_set))"
   ]
  },
  {
   "cell_type": "code",
   "execution_count": 5,
   "metadata": {},
   "outputs": [
    {
     "name": "stdout",
     "output_type": "stream",
     "text": [
      "Result part one: 4883\n"
     ]
    }
   ],
   "source": [
    "if __name__ == \"__main__\":\n",
    "    horizontal_map = load_file(\"input.txt\")\n",
    "    x, y, symbol_index = find_guard(horizontal_map)\n",
    "    print(\"Result part one:\", play(x, y, directions[symbol_index:] + directions[:symbol_index]))"
   ]
  },
  {
   "cell_type": "code",
   "execution_count": 57,
   "metadata": {},
   "outputs": [],
   "source": [
    "# Comments\n",
    "###############\n",
    "# Part one: 4883"
   ]
  }
 ],
 "metadata": {
  "kernelspec": {
   "display_name": "Python 3",
   "language": "python",
   "name": "python3"
  },
  "language_info": {
   "codemirror_mode": {
    "name": "ipython",
    "version": 3
   },
   "file_extension": ".py",
   "mimetype": "text/x-python",
   "name": "python",
   "nbconvert_exporter": "python",
   "pygments_lexer": "ipython3",
   "version": "3.9.13"
  }
 },
 "nbformat": 4,
 "nbformat_minor": 2
}
