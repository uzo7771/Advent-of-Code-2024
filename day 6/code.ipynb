{
 "cells": [
  {
   "cell_type": "code",
   "execution_count": 8,
   "metadata": {},
   "outputs": [],
   "source": [
    "def load_file(path):\n",
    "    with open (path, \"r\") as file:\n",
    "        map = file.read().split(\"\\n\")\n",
    "    return map\n",
    "\n",
    "guard_symbols = ['^', '>', 'v','<']\n",
    "directions = [\"up\", \"right\", \"down\", \"left\"]"
   ]
  },
  {
   "cell_type": "code",
   "execution_count": 9,
   "metadata": {},
   "outputs": [],
   "source": [
    "def find_guard(horizontal_map):\n",
    "    for i, line in enumerate(horizontal_map):\n",
    "        for symbol in guard_symbols:\n",
    "            if symbol in line:\n",
    "                y = i\n",
    "                x = line.index(symbol)\n",
    "                return x, y, guard_symbols.index(symbol)"
   ]
  },
  {
   "cell_type": "code",
   "execution_count": 10,
   "metadata": {},
   "outputs": [],
   "source": [
    "def go(x, y, direction, new_obstruction=[-1,-1]):\n",
    "    path = []\n",
    "    dir_path = []\n",
    "    if direction == \"up\":\n",
    "        for i in range(y,-1,-1):\n",
    "            if horizontal_map[i][x] == \"#\" or (x == new_obstruction[0] and i == new_obstruction[1]):\n",
    "                return x, i+1, path, dir_path \n",
    "            path.append((x,i))\n",
    "            dir_path.append(0)\n",
    "        else:\n",
    "            return -1, -1, path, dir_path \n",
    "    elif direction == \"right\":\n",
    "        for i in range(x,len(horizontal_map[0])):\n",
    "            if horizontal_map[y][i] == \"#\" or (i == new_obstruction[0] and y == new_obstruction[1]):\n",
    "                return i-1, y, path, dir_path \n",
    "            path.append((i,y))  \n",
    "            dir_path.append(1)\n",
    "        else:\n",
    "            return -1, -1, path, dir_path \n",
    "    elif direction == \"down\":\n",
    "        for i in range(y,len(horizontal_map)):\n",
    "            if horizontal_map[i][x] == \"#\" or (x == new_obstruction[0] and i == new_obstruction[1]):\n",
    "                return x, i-1, path, dir_path \n",
    "            path.append((x,i))\n",
    "            dir_path.append(2)\n",
    "        else:\n",
    "            return -1, -1, path, dir_path \n",
    "    elif direction == \"left\":\n",
    "        for i in range(x,-1,-1):\n",
    "            if horizontal_map[y][i] == \"#\" or (i == new_obstruction[0] and y == new_obstruction[1]):\n",
    "                return i+1, y, path, dir_path \n",
    "            path.append((i,y))\n",
    "            dir_path.append(3)\n",
    "        else:\n",
    "            return -1, -1, path, dir_path "
   ]
  },
  {
   "cell_type": "code",
   "execution_count": 11,
   "metadata": {},
   "outputs": [],
   "source": [
    "def play(x, y, order_of_directions, new_obstruction=[-1,-1]):\n",
    "    path_list = []\n",
    "    dir_list = []\n",
    "    counter = 0\n",
    "    while True:\n",
    "        counter +=1\n",
    "        for direction in order_of_directions:\n",
    "            x, y, path, dir_path = go(x, y, direction, new_obstruction) \n",
    "            if counter % 50 == 0:\n",
    "                if loop_check(list(zip(path_list, dir_list)), list(zip(path, dir_path))):\n",
    "                    return \"Loop\"\n",
    "            path_list.extend(path)\n",
    "            dir_list.extend(dir_path)\n",
    "            if x < 0 or y < 0:\n",
    "                return  len(set(path_list)), path_list"
   ]
  },
  {
   "cell_type": "code",
   "execution_count": 12,
   "metadata": {},
   "outputs": [],
   "source": [
    "def loop_check(history_path, new_path):\n",
    "     return any(item in history_path for item in new_path)"
   ]
  },
  {
   "cell_type": "code",
   "execution_count": 13,
   "metadata": {},
   "outputs": [
    {
     "name": "stdout",
     "output_type": "stream",
     "text": [
      "Result part one: 4883\n",
      "Result part two: 1655\n"
     ]
    }
   ],
   "source": [
    "if __name__ == \"__main__\":\n",
    "    horizontal_map = load_file(\"input.txt\")\n",
    "    x, y, symbol_index = find_guard(horizontal_map)\n",
    "\n",
    "    directions_shifted = directions[symbol_index:] + directions[:symbol_index]\n",
    "    result_part_one, guard_positions = play(x, y, directions_shifted)\n",
    "    print(\"Result part one:\", result_part_one)\n",
    "\n",
    "    result_part_two = sum(\n",
    "        play(x, y, directions_shifted, guard)[0] == 'L'\n",
    "        for guard in set(guard_positions)\n",
    "    )\n",
    "    print(\"Result part two:\", result_part_two)"
   ]
  },
  {
   "cell_type": "code",
   "execution_count": 57,
   "metadata": {},
   "outputs": [],
   "source": [
    "# Comments\n",
    "###############\n",
    "# Part one: 4883\n",
    "# Part two: 1655 "
   ]
  }
 ],
 "metadata": {
  "kernelspec": {
   "display_name": "Python 3",
   "language": "python",
   "name": "python3"
  },
  "language_info": {
   "codemirror_mode": {
    "name": "ipython",
    "version": 3
   },
   "file_extension": ".py",
   "mimetype": "text/x-python",
   "name": "python",
   "nbconvert_exporter": "python",
   "pygments_lexer": "ipython3",
   "version": "3.9.13"
  }
 },
 "nbformat": 4,
 "nbformat_minor": 2
}
